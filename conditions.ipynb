{
 "cells": [
  {
   "attachments": {},
   "cell_type": "markdown",
   "metadata": {},
   "source": [
    "# If statement"
   ]
  },
  {
   "cell_type": "code",
   "execution_count": 1,
   "metadata": {},
   "outputs": [
    {
     "name": "stdout",
     "output_type": "stream",
     "text": [
      "value is less than 100\n"
     ]
    }
   ],
   "source": [
    "val = 58\n",
    "if val < 100:\n",
    "    print(\"value is less than 100\")"
   ]
  },
  {
   "cell_type": "code",
   "execution_count": 2,
   "metadata": {},
   "outputs": [
    {
     "name": "stdout",
     "output_type": "stream",
     "text": [
      " Value is not greater\n"
     ]
    }
   ],
   "source": [
    "val = 39\n",
    "if val >100:\n",
    "    print(\"Value is greater than 100\")\n",
    "else:\n",
    "\n",
    "    print(\" Value is not greater\")"
   ]
  },
  {
   "cell_type": "code",
   "execution_count": 5,
   "metadata": {},
   "outputs": [
    {
     "name": "stdout",
     "output_type": "stream",
     "text": [
      " cannot vote \n"
     ]
    }
   ],
   "source": [
    "age = input(\"Age= \")\n",
    "age = int(age)\n",
    "if age >= 19:\n",
    "    print(\"can vote\")\n",
    "else:\n",
    "    print(\" cannot vote \")\n"
   ]
  },
  {
   "cell_type": "code",
   "execution_count": 4,
   "metadata": {},
   "outputs": [
    {
     "name": "stdout",
     "output_type": "stream",
     "text": [
      " invalid credentials\n"
     ]
    }
   ],
   "source": [
    "username = input(\"enter your username: \")\n",
    "password = input(\"enter your password: \")\n",
    "if username == \"admin\" and password == \"root\":\n",
    "    print(\"Welcome Admin\")\n",
    "else:\n",
    "    print(\" invalid credentials\")"
   ]
  },
  {
   "attachments": {},
   "cell_type": "markdown",
   "metadata": {},
   "source": [
    "# Nested Statements"
   ]
  },
  {
   "cell_type": "code",
   "execution_count": 7,
   "metadata": {},
   "outputs": [
    {
     "name": "stdout",
     "output_type": "stream",
     "text": [
      " Welcome Admin\n"
     ]
    }
   ],
   "source": [
    "username = input(\"enter your username: \")\n",
    "password = input(\"enter your password: \")\n",
    "if username == \"admin\":\n",
    "    if password == \"root\":\n",
    "        print(\" Welcome Admin\")\n",
    "    else:\n",
    "        print(\" password is incorrect\")\n",
    "else:\n",
    "    print(\"username is invalid\")"
   ]
  },
  {
   "cell_type": "code",
   "execution_count": 11,
   "metadata": {},
   "outputs": [
    {
     "name": "stdout",
     "output_type": "stream",
     "text": [
      "you dont have the permission \n",
      "invalid password \n"
     ]
    }
   ],
   "source": [
    "# negative statements first\n",
    "username = input(\"enter your username: \")\n",
    "password = input(\"enter your password: \")\n",
    "e = False\n",
    "if username != \"admin\":\n",
    "    print(\"you dont have the permission \")\n",
    "    e = True\n",
    "if password != \"root\":\n",
    "    print(\"invalid password \")\n",
    "    e = True\n",
    "if not e:\n",
    "    print(\"welcome to the system\")"
   ]
  },
  {
   "cell_type": "code",
   "execution_count": 13,
   "metadata": {},
   "outputs": [
    {
     "name": "stdout",
     "output_type": "stream",
     "text": [
      "invalid password \n"
     ]
    }
   ],
   "source": [
    "username = input(\"enter your username: \")\n",
    "password = input(\"enter your password: \")\n",
    "if username != \"admin\":\n",
    "    print(\"you dont have the permission \")\n",
    "    \n",
    "elif password != \"root\":\n",
    "    print(\"invalid password \")\n",
    "else:\n",
    "    print(\"welcome to the system\")"
   ]
  }
 ],
 "metadata": {
  "kernelspec": {
   "display_name": "base",
   "language": "python",
   "name": "python3"
  },
  "language_info": {
   "codemirror_mode": {
    "name": "ipython",
    "version": 3
   },
   "file_extension": ".py",
   "mimetype": "text/x-python",
   "name": "python",
   "nbconvert_exporter": "python",
   "pygments_lexer": "ipython3",
   "version": "3.9.12 (main, Apr  4 2022, 05:22:27) [MSC v.1916 64 bit (AMD64)]"
  },
  "orig_nbformat": 4,
  "vscode": {
   "interpreter": {
    "hash": "3a6540410e99ebb174160a250793212daf3c3c2038538e5b5f11c20c3315b364"
   }
  }
 },
 "nbformat": 4,
 "nbformat_minor": 2
}
