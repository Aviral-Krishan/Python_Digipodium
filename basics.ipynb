{
 "cells": [
  {
   "attachments": {},
   "cell_type": "markdown",
   "metadata": {},
   "source": [
    "# Setting up VS code\n",
    "INSTALL EXTENTIONS\n",
    "-Python EXTENTION\n",
    "-VS code-ICONS EXTENTION\n",
    "\n",
    "INSTALL GIT\n",
    "INSTALL MINICONDA\n",
    "\n",
    "# OPEN ANACONDA PROMPT\n",
    "-FOR NOTEBOOKS TYPE >>> conda install ipykernel-y \n",
    "\n",
    "# SETUP PYTHON INTERPRETOR\n",
    "IN VS CODE\n",
    "- CTRL+SHIFT+P\n",
    "- TYPE python select interpretor\n",
    "- select python 3.9.12(base)\n",
    "\n",
    "# for python notebooks\n",
    "use .ipynb(i python notebook) extention\n",
    "\n",
    "# Install Library\n",
    "in anaconda prompt typ\n",
    "-  pip\n",
    "- pip freeze                    {  list of all libraries\n",
    "- pip install pillow            {  python image processiong library\n",
    "- pip uninstall pillow          \n",
    "\n"
   ]
  },
  {
   "cell_type": "markdown",
   "metadata": {},
   "source": []
  },
  {
   "attachments": {},
   "cell_type": "markdown",
   "metadata": {},
   "source": [
    "# Operator\n",
    "1. Arithmetic Operator\n",
    "2. Assignment Operator\n",
    "3. Comparrison Operator\n",
    "4. Logical Operator\n",
    "5. identity Operator\n",
    "6. membership Operator\n",
    "7. bitwise Operator"
   ]
  },
  {
   "cell_type": "code",
   "execution_count": 2,
   "metadata": {},
   "outputs": [
    {
     "name": "stdout",
     "output_type": "stream",
     "text": [
      "hello world\n"
     ]
    },
    {
     "data": {
      "text/plain": [
       "290617"
      ]
     },
     "execution_count": 2,
     "metadata": {},
     "output_type": "execute_result"
    }
   ],
   "source": [
    "print (\"hello world\")\n",
    "\n",
    "100+200\n",
    "389393-98776"
   ]
  },
  {
   "attachments": {},
   "cell_type": "markdown",
   "metadata": {},
   "source": [
    "# Arithmetic operator"
   ]
  },
  {
   "cell_type": "code",
   "execution_count": 1,
   "metadata": {},
   "outputs": [
    {
     "name": "stdout",
     "output_type": "stream",
     "text": [
      "200\n",
      "6\n",
      "3\n",
      "3.3333333333333335\n",
      "1\n",
      "1000\n"
     ]
    }
   ],
   "source": [
    "print (100 + 100) # substraction\n",
    "print (2*3)\n",
    "print (10 // 3) # int\n",
    "print (10 / 3) # float\n",
    "print (10 % 3)\n",
    "print (10 ** 3)"
   ]
  },
  {
   "attachments": {},
   "cell_type": "markdown",
   "metadata": {},
   "source": [
    "# Assignment operator"
   ]
  },
  {
   "cell_type": "code",
   "execution_count": 21,
   "metadata": {},
   "outputs": [
    {
     "name": "stdout",
     "output_type": "stream",
     "text": [
      "10 15 20 10 25\n"
     ]
    }
   ],
   "source": [
    "x = 10\n",
    "y = 15\n",
    "z = 20\n",
    "a = x\n",
    "b= x + y\n",
    "print (x, y, z, a, b)"
   ]
  },
  {
   "cell_type": "code",
   "execution_count": 12,
   "metadata": {},
   "outputs": [
    {
     "name": "stdout",
     "output_type": "stream",
     "text": [
      "400\n"
     ]
    }
   ],
   "source": [
    "x += 10\n",
    "x -= 10\n",
    "x *= 10\n",
    "print(x)"
   ]
  },
  {
   "attachments": {},
   "cell_type": "markdown",
   "metadata": {},
   "source": [
    "# Comparison operator"
   ]
  },
  {
   "cell_type": "code",
   "execution_count": 13,
   "metadata": {},
   "outputs": [
    {
     "name": "stdout",
     "output_type": "stream",
     "text": [
      "True\n",
      "True\n",
      "False\n",
      "False\n",
      "False\n",
      "True\n"
     ]
    }
   ],
   "source": [
    "print(x > y)\n",
    "print(x >= y)\n",
    "print(x < y)\n",
    "print(x <= y)\n",
    "print(x == y)\n",
    "print(x != y)"
   ]
  },
  {
   "attachments": {},
   "cell_type": "markdown",
   "metadata": {},
   "source": [
    "# and , or , not\n",
    "# condition1 and condition2  and condition 3"
   ]
  },
  {
   "cell_type": "code",
   "execution_count": 20,
   "metadata": {},
   "outputs": [
    {
     "name": "stdout",
     "output_type": "stream",
     "text": [
      "False\n",
      "False\n",
      "False\n",
      "False\n",
      "True\n",
      "False\n",
      "True\n"
     ]
    }
   ],
   "source": [
    "# and , or , not\n",
    "#condition1 and condition2  and condition 3\n",
    "x=10\n",
    "y=3\n",
    "print(not(x > 5 and y < 10))\n",
    "print(x > 5 and y > 10)\n",
    "print(x < 5 and y > 10)\n",
    "print(x < 5 and y < 10)\n",
    "print(x > 5 or y > 10)\n",
    "print(x < 5 or y > 10)\n",
    "print(x < 5 or y < 10)\n"
   ]
  },
  {
   "cell_type": "code",
   "execution_count": 4,
   "metadata": {},
   "outputs": [
    {
     "data": {
      "text/plain": [
       "True"
      ]
     },
     "execution_count": 4,
     "metadata": {},
     "output_type": "execute_result"
    }
   ],
   "source": [
    "a = \" \"\n",
    "bool(a)\n",
    "# empty string and 0 is false"
   ]
  },
  {
   "cell_type": "code",
   "execution_count": 3,
   "metadata": {},
   "outputs": [
    {
     "data": {
      "text/plain": [
       "False"
      ]
     },
     "execution_count": 3,
     "metadata": {},
     "output_type": "execute_result"
    }
   ],
   "source": [
    "b = \"\"\n",
    "bool(b)"
   ]
  },
  {
   "cell_type": "code",
   "execution_count": 6,
   "metadata": {},
   "outputs": [],
   "source": [
    "x = [1,2,3]\n",
    "y = x.copy()\n",
    "z = x"
   ]
  },
  {
   "attachments": {},
   "cell_type": "markdown",
   "metadata": {},
   "source": [
    "# \"is\" identity operator"
   ]
  },
  {
   "cell_type": "code",
   "execution_count": 9,
   "metadata": {},
   "outputs": [
    {
     "name": "stdout",
     "output_type": "stream",
     "text": [
      "True\n",
      "False\n"
     ]
    }
   ],
   "source": [
    "print (x == y) #compares value\n",
    "print (x is y) #compares reference \n",
    "\n"
   ]
  },
  {
   "cell_type": "code",
   "execution_count": 10,
   "metadata": {},
   "outputs": [
    {
     "name": "stdout",
     "output_type": "stream",
     "text": [
      "True\n",
      "True\n"
     ]
    }
   ],
   "source": [
    "print (x == z) #compares value\n",
    "print (x is z) #compares reference"
   ]
  },
  {
   "cell_type": "code",
   "execution_count": 13,
   "metadata": {},
   "outputs": [],
   "source": [
    "colors= [\"red\" , \"green\" , \"blue\"]\n",
    "numbers = [1,2,3,4,5,6]\n"
   ]
  },
  {
   "attachments": {},
   "cell_type": "markdown",
   "metadata": {},
   "source": [
    "#  \"in\" is called membership operator"
   ]
  },
  {
   "cell_type": "code",
   "execution_count": 14,
   "metadata": {},
   "outputs": [
    {
     "name": "stdout",
     "output_type": "stream",
     "text": [
      "False\n",
      "True\n"
     ]
    }
   ],
   "source": [
    "print('pink' in colors)\n",
    "print(4 in numbers)\n"
   ]
  },
  {
   "attachments": {},
   "cell_type": "markdown",
   "metadata": {},
   "source": [
    "# Datatypes"
   ]
  },
  {
   "cell_type": "code",
   "execution_count": 19,
   "metadata": {},
   "outputs": [
    {
     "name": "stdout",
     "output_type": "stream",
     "text": [
      "<class 'int'>\n",
      "<class 'str'>\n",
      "<class 'bool'>\n",
      "<class 'NoneType'>\n",
      "<class 'list'>\n",
      "<class 'tuple'>\n",
      "<class 'set'>\n",
      "<class 'float'>\n",
      "<class 'dict'>\n"
     ]
    }
   ],
   "source": [
    "x = 10\n",
    "print(type(x))\n",
    "x = 'jello'\n",
    "print(type(x))\n",
    "x = True\n",
    "print(type(x))\n",
    "x = None\n",
    "print(type(x))\n",
    "x = [1,2,3]\n",
    "print(type(x))\n",
    "x = (1,2,3)\n",
    "print(type(x))\n",
    "x = {1,2,3}\n",
    "print(type(x))\n",
    "x = 2.10\n",
    "print(type(x))\n",
    "x = {'a':1,'b':2,'c':3}\n",
    "print(type(x))"
   ]
  }
 ],
 "metadata": {
  "kernelspec": {
   "display_name": "base",
   "language": "python",
   "name": "python3"
  },
  "language_info": {
   "codemirror_mode": {
    "name": "ipython",
    "version": 3
   },
   "file_extension": ".py",
   "mimetype": "text/x-python",
   "name": "python",
   "nbconvert_exporter": "python",
   "pygments_lexer": "ipython3",
   "version": "3.9.12 (main, Apr  4 2022, 05:22:27) [MSC v.1916 64 bit (AMD64)]"
  },
  "orig_nbformat": 4,
  "vscode": {
   "interpreter": {
    "hash": "3a6540410e99ebb174160a250793212daf3c3c2038538e5b5f11c20c3315b364"
   }
  }
 },
 "nbformat": 4,
 "nbformat_minor": 2
}
