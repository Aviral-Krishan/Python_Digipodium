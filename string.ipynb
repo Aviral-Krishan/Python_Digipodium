{
 "cells": [
  {
   "attachments": {},
   "cell_type": "markdown",
   "metadata": {},
   "source": [
    "Weekly questions for strings\n",
    "\n",
    "- wap to count all the vovels in a string data\n",
    "- wap to count all the words in a string data\n",
    "- wap to max occuring character in a string data\n",
    "- wap to most common vowel in a string data\n",
    "- remove all the spaces from a string data\n",
    "- remove all the puctuation from a string data\n"
   ]
  },
  {
   "cell_type": "code",
   "execution_count": 1,
   "metadata": {},
   "outputs": [
    {
     "name": "stdout",
     "output_type": "stream",
     "text": [
      "aoccured 0 times\n",
      "eoccured 0 times\n",
      "ioccured 0 times\n",
      "ooccured 0 times\n",
      "uoccured 0 times\n"
     ]
    }
   ],
   "source": [
    "\n",
    "data = input(\"enter something:\")\n",
    "for vowel in \"aeiou\":\n",
    "    cnt = data.lower().count(vowel)\n",
    "    print(f'{vowel}occured {cnt} times')"
   ]
  },
  {
   "cell_type": "code",
   "execution_count": 2,
   "metadata": {},
   "outputs": [
    {
     "name": "stdout",
     "output_type": "stream",
     "text": [
      "word_count=1\n"
     ]
    }
   ],
   "source": [
    "# word count\n",
    "data = input(\"Enter something:\")\n",
    "word_count = len(data.split())\n",
    "print(f\"{word_count=}\")"
   ]
  },
  {
   "cell_type": "code",
   "execution_count": 4,
   "metadata": {},
   "outputs": [
    {
     "name": "stdout",
     "output_type": "stream",
     "text": [
      "f => 1 times\n",
      "f => 1 times\n",
      "n => 3 times\n",
      "n => 3 times\n",
      "n => 3 times\n",
      "n => 3 times\n",
      "n => 3 times\n",
      "n => 3 times\n",
      "n => 3 times\n",
      "n => 3 times\n",
      "n => 3 times\n",
      "n => 3 times\n"
     ]
    }
   ],
   "source": [
    "# character with max occurence\n",
    "data = input(\"Enter something:\")\n",
    "mx = '' #blank string \n",
    "cnt = 0\n",
    "for char in data:\n",
    "    count= data.count(char)\n",
    "    if count > cnt:\n",
    "        mx = char\n",
    "        cnt = count\n",
    "    print(f'{mx} => {cnt} times')"
   ]
  },
  {
   "cell_type": "code",
   "execution_count": 5,
   "metadata": {},
   "outputs": [
    {
     "name": "stdout",
     "output_type": "stream",
     "text": [
      "vf\n",
      "vf\n"
     ]
    }
   ],
   "source": [
    "# remove all spaces from data\n",
    "data = input('enter something:')\n",
    "print(data)\n",
    "data = data.replace(' ','')\n",
    "print(data)"
   ]
  },
  {
   "cell_type": "code",
   "execution_count": 6,
   "metadata": {},
   "outputs": [
    {
     "name": "stdout",
     "output_type": "stream",
     "text": [
      "rrrr\n",
      "rrrr\n",
      "rrrr\n",
      "rrrr\n",
      "rrrr\n",
      "rrrr\n",
      "rrrr\n",
      "rrrr\n",
      "rrrr\n",
      "rrrr\n",
      "rrrr\n",
      "rrrr\n",
      "rrrr\n",
      "rrrr\n",
      "rrrr\n",
      "rrrr\n",
      "rrrr\n",
      "rrrr\n",
      "rrrr\n",
      "rrrr\n",
      "rrrr\n",
      "rrrr\n",
      "rrrr\n",
      "rrrr\n",
      "rrrr\n",
      "rrrr\n",
      "rrrr\n",
      "rrrr\n",
      "rrrr\n",
      "rrrr\n",
      "rrrr\n",
      "rrrr\n",
      "rrrr\n"
     ]
    }
   ],
   "source": [
    "from string import punctuation\n",
    "data = input(\"enter something\")\n",
    "print(data)\n",
    "for char in punctuation:\n",
    "    data = data.replace(char, '')\n",
    "    print(data)"
   ]
  },
  {
   "cell_type": "code",
   "execution_count": null,
   "metadata": {},
   "outputs": [],
   "source": []
  }
 ],
 "metadata": {
  "kernelspec": {
   "display_name": "base",
   "language": "python",
   "name": "python3"
  },
  "language_info": {
   "codemirror_mode": {
    "name": "ipython",
    "version": 3
   },
   "file_extension": ".py",
   "mimetype": "text/x-python",
   "name": "python",
   "nbconvert_exporter": "python",
   "pygments_lexer": "ipython3",
   "version": "3.9.12"
  },
  "orig_nbformat": 4,
  "vscode": {
   "interpreter": {
    "hash": "3a6540410e99ebb174160a250793212daf3c3c2038538e5b5f11c20c3315b364"
   }
  }
 },
 "nbformat": 4,
 "nbformat_minor": 2
}
