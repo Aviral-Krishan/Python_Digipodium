{
 "cells": [
  {
   "cell_type": "code",
   "execution_count": null,
   "metadata": {},
   "outputs": [],
   "source": [
    "handles = []\n",
    "for name in name_list:\n",
    "    print(name)\n",
    "    handle = name[ name.find('(')+1 : name.find(')') ]\n",
    "    handles.append(handles)\n",
    "print(handles)"
   ]
  }
 ],
 "metadata": {
  "language_info": {
   "name": "python"
  },
  "orig_nbformat": 4
 },
 "nbformat": 4,
 "nbformat_minor": 2
}
