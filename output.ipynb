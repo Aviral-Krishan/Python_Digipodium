{
 "cells": [
  {
   "attachments": {},
   "cell_type": "markdown",
   "metadata": {},
   "source": [
    "# 5 variations of Print() function"
   ]
  },
  {
   "cell_type": "code",
   "execution_count": 2,
   "metadata": {},
   "outputs": [
    {
     "name": "stdout",
     "output_type": "stream",
     "text": [
      "Sam 99.99 10 999.9\n",
      "SamSamSamSamSamSamSamSamSamSam\n"
     ]
    }
   ],
   "source": [
    "name = \"Sam\"\n",
    "price = 99.99\n",
    "qty = 10\n",
    "print(name, price, qty, price * qty)\n",
    "print(name * qty)"
   ]
  },
  {
   "attachments": {},
   "cell_type": "markdown",
   "metadata": {},
   "source": [
    "# name purchases qty items for price costing total"
   ]
  },
  {
   "cell_type": "code",
   "execution_count": 3,
   "metadata": {},
   "outputs": [
    {
     "name": "stdout",
     "output_type": "stream",
     "text": [
      "Sam purchases 10 items for 99.99 costing 999.9\n"
     ]
    }
   ],
   "source": [
    "#comma seperated values\n",
    "\n",
    "print(name, \"purchases\", qty, \"items for\", price, \"costing\", price * qty)\n"
   ]
  },
  {
   "cell_type": "code",
   "execution_count": 5,
   "metadata": {},
   "outputs": [
    {
     "name": "stdout",
     "output_type": "stream",
     "text": [
      "Sam purchases 10 items for 99.99 costing 999.9\n"
     ]
    }
   ],
   "source": [
    "# concatationation using + (plus)\n",
    "\n",
    "print(name + \" purchases \" + str(qty) + \" items for \" + str(price) + \" costing \" + str(price * qty))"
   ]
  },
  {
   "cell_type": "code",
   "execution_count": 7,
   "metadata": {},
   "outputs": [
    {
     "name": "stdout",
     "output_type": "stream",
     "text": [
      "Sam purchases 10 items for 99.990000 costing 999.900000\n"
     ]
    }
   ],
   "source": [
    "# format specifier using % (module)\n",
    "\n",
    "print( \"%s purchases %d items for %f costing %f\" %(name, qty, price, price * qty))"
   ]
  },
  {
   "cell_type": "code",
   "execution_count": 8,
   "metadata": {},
   "outputs": [
    {
     "name": "stdout",
     "output_type": "stream",
     "text": [
      "Sam purchases 10 items for 99.99 costing 999.9\n"
     ]
    }
   ],
   "source": [
    "#  format method\n",
    "\n",
    "print (\"{} purchases {} items for {} costing {}\" .format(name, qty, price, price * qty ))"
   ]
  },
  {
   "cell_type": "code",
   "execution_count": 11,
   "metadata": {},
   "outputs": [
    {
     "name": "stdout",
     "output_type": "stream",
     "text": [
      "Sam purchases 10 items for 99.99 costing 999.9\n"
     ]
    }
   ],
   "source": [
    "# f - string\n",
    "\n",
    "print(f'{name} purchases {qty} items for {price} costing { price * qty }')"
   ]
  },
  {
   "cell_type": "code",
   "execution_count": 12,
   "metadata": {},
   "outputs": [
    {
     "name": "stdout",
     "output_type": "stream",
     "text": [
      " Name => Sam\n",
      " Price => $99.99\n",
      " Quantity => 10\n",
      " Total price => $999.900\n"
     ]
    }
   ],
   "source": [
    "print(f\" Name => {name}\")\n",
    "print(f\" Price => ${price}\")\n",
    "print(f\" Quantity => {qty}\")\n",
    "print(f\" Total price => ${price * qty:.3f}\")"
   ]
  },
  {
   "attachments": {},
   "cell_type": "markdown",
   "metadata": {},
   "source": [
    "- wap to find the are of circle when the user provides the radius\n",
    "- wap to find the simple interst when the user provides the principle rate time\n",
    "- calculate and display the hypotenuse "
   ]
  },
  {
   "cell_type": "code",
   "execution_count": 13,
   "metadata": {},
   "outputs": [],
   "source": [
    "sum([1,4,5,6])\n"
   ]
  },
  {
   "cell_type": "code",
   "execution_count": 14,
   "metadata": {},
   "outputs": [
    {
     "data": {
      "text/plain": [
       "1"
      ]
     },
     "execution_count": 14,
     "metadata": {},
     "output_type": "execute_result"
    }
   ],
   "source": [
    "min([1,4,5,6])\n"
   ]
  },
  {
   "cell_type": "code",
   "execution_count": 15,
   "metadata": {},
   "outputs": [
    {
     "data": {
      "text/plain": [
       "6"
      ]
     },
     "execution_count": 15,
     "metadata": {},
     "output_type": "execute_result"
    }
   ],
   "source": [
    "max([1,4,5,6])\n"
   ]
  },
  {
   "cell_type": "code",
   "execution_count": 1,
   "metadata": {},
   "outputs": [
    {
     "data": {
      "text/plain": [
       "4"
      ]
     },
     "execution_count": 1,
     "metadata": {},
     "output_type": "execute_result"
    }
   ],
   "source": [
    "len([12,4,5,6])\n"
   ]
  },
  {
   "cell_type": "code",
   "execution_count": 2,
   "metadata": {},
   "outputs": [
    {
     "data": {
      "text/plain": [
       "4"
      ]
     },
     "execution_count": 2,
     "metadata": {},
     "output_type": "execute_result"
    }
   ],
   "source": [
    "len(\"halo\")"
   ]
  },
  {
   "cell_type": "code",
   "execution_count": 3,
   "metadata": {},
   "outputs": [
    {
     "data": {
      "text/plain": [
       "4.0"
      ]
     },
     "execution_count": 3,
     "metadata": {},
     "output_type": "execute_result"
    }
   ],
   "source": [
    "average = sum([1,4,5,6]) / len([1,4,5,6])"
   ]
  },
  {
   "cell_type": "code",
   "execution_count": null,
   "metadata": {},
   "outputs": [],
   "source": []
  }
 ],
 "metadata": {
  "kernelspec": {
   "display_name": "base",
   "language": "python",
   "name": "python3"
  },
  "language_info": {
   "codemirror_mode": {
    "name": "ipython",
    "version": 3
   },
   "file_extension": ".py",
   "mimetype": "text/x-python",
   "name": "python",
   "nbconvert_exporter": "python",
   "pygments_lexer": "ipython3",
   "version": "3.9.12 (main, Apr  4 2022, 05:22:27) [MSC v.1916 64 bit (AMD64)]"
  },
  "orig_nbformat": 4,
  "vscode": {
   "interpreter": {
    "hash": "3a6540410e99ebb174160a250793212daf3c3c2038538e5b5f11c20c3315b364"
   }
  }
 },
 "nbformat": 4,
 "nbformat_minor": 2
}
